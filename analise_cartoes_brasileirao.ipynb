{
 "cells": [
  {
   "cell_type": "code",
   "execution_count": 24,
   "metadata": {},
   "outputs": [],
   "source": [
    "import pandas as pd"
   ]
  },
  {
   "cell_type": "markdown",
   "metadata": {},
   "source": [
    "O objetivo deste projeto é realizar uma análise detalhada dos cartões (amarelos e vermelhos) distribuídos em partidas de futebol. A intenção é identificar padrões e tendências relacionadas à frequência de cartões, as circunstâncias em que são aplicados, e como eles impactam o resultado das partidas. "
   ]
  },
  {
   "cell_type": "markdown",
   "metadata": {},
   "source": [
    "A base de dados em questão utilizam 8404 partidas do campeonato brasileiro de futebol no período de 2003 à 2023"
   ]
  },
  {
   "cell_type": "code",
   "execution_count": 25,
   "metadata": {},
   "outputs": [],
   "source": [
    "#Extraindo a base de dados e colocando o separador como vírgula\n",
    "\n",
    "dados = pd.read_csv('./campeonato-brasileiro-cartoes.csv', sep = ',')"
   ]
  },
  {
   "cell_type": "code",
   "execution_count": 26,
   "metadata": {},
   "outputs": [
    {
     "data": {
      "text/html": [
       "<div>\n",
       "<style scoped>\n",
       "    .dataframe tbody tr th:only-of-type {\n",
       "        vertical-align: middle;\n",
       "    }\n",
       "\n",
       "    .dataframe tbody tr th {\n",
       "        vertical-align: top;\n",
       "    }\n",
       "\n",
       "    .dataframe thead th {\n",
       "        text-align: right;\n",
       "    }\n",
       "</style>\n",
       "<table border=\"1\" class=\"dataframe\">\n",
       "  <thead>\n",
       "    <tr style=\"text-align: right;\">\n",
       "      <th></th>\n",
       "      <th>partida_id</th>\n",
       "      <th>rodata</th>\n",
       "      <th>clube</th>\n",
       "      <th>cartao</th>\n",
       "      <th>atleta</th>\n",
       "      <th>num_camisa</th>\n",
       "      <th>posicao</th>\n",
       "      <th>minuto</th>\n",
       "    </tr>\n",
       "  </thead>\n",
       "  <tbody>\n",
       "    <tr>\n",
       "      <th>0</th>\n",
       "      <td>4607</td>\n",
       "      <td>1</td>\n",
       "      <td>Figueirense</td>\n",
       "      <td>Amarelo</td>\n",
       "      <td>Paulo Roberto da Silva</td>\n",
       "      <td>28.0</td>\n",
       "      <td>NaN</td>\n",
       "      <td>66</td>\n",
       "    </tr>\n",
       "    <tr>\n",
       "      <th>1</th>\n",
       "      <td>4607</td>\n",
       "      <td>1</td>\n",
       "      <td>Figueirense</td>\n",
       "      <td>Amarelo</td>\n",
       "      <td>Thiago Heleno</td>\n",
       "      <td>4.0</td>\n",
       "      <td>Zagueiro</td>\n",
       "      <td>44</td>\n",
       "    </tr>\n",
       "    <tr>\n",
       "      <th>2</th>\n",
       "      <td>4608</td>\n",
       "      <td>1</td>\n",
       "      <td>Internacional</td>\n",
       "      <td>Amarelo</td>\n",
       "      <td>Andrés D'Alessandro</td>\n",
       "      <td>10.0</td>\n",
       "      <td>Meio-campo</td>\n",
       "      <td>72</td>\n",
       "    </tr>\n",
       "    <tr>\n",
       "      <th>3</th>\n",
       "      <td>4608</td>\n",
       "      <td>1</td>\n",
       "      <td>Vitoria</td>\n",
       "      <td>Amarelo</td>\n",
       "      <td>Marcelo Machado dos Santos</td>\n",
       "      <td>29.0</td>\n",
       "      <td>NaN</td>\n",
       "      <td>86</td>\n",
       "    </tr>\n",
       "    <tr>\n",
       "      <th>4</th>\n",
       "      <td>4608</td>\n",
       "      <td>1</td>\n",
       "      <td>Vitoria</td>\n",
       "      <td>Amarelo</td>\n",
       "      <td>Mansur</td>\n",
       "      <td>NaN</td>\n",
       "      <td>Zagueiro</td>\n",
       "      <td>10</td>\n",
       "    </tr>\n",
       "    <tr>\n",
       "      <th>...</th>\n",
       "      <td>...</td>\n",
       "      <td>...</td>\n",
       "      <td>...</td>\n",
       "      <td>...</td>\n",
       "      <td>...</td>\n",
       "      <td>...</td>\n",
       "      <td>...</td>\n",
       "      <td>...</td>\n",
       "    </tr>\n",
       "    <tr>\n",
       "      <th>18852</th>\n",
       "      <td>8405</td>\n",
       "      <td>38</td>\n",
       "      <td>Vasco</td>\n",
       "      <td>Amarelo</td>\n",
       "      <td>Gabriel Pec</td>\n",
       "      <td>11.0</td>\n",
       "      <td>Atacante</td>\n",
       "      <td>90+5</td>\n",
       "    </tr>\n",
       "    <tr>\n",
       "      <th>18853</th>\n",
       "      <td>8405</td>\n",
       "      <td>38</td>\n",
       "      <td>Vasco</td>\n",
       "      <td>Amarelo</td>\n",
       "      <td>Paulinho</td>\n",
       "      <td>18.0</td>\n",
       "      <td>Meio-campo</td>\n",
       "      <td>51</td>\n",
       "    </tr>\n",
       "    <tr>\n",
       "      <th>18854</th>\n",
       "      <td>8405</td>\n",
       "      <td>38</td>\n",
       "      <td>Vasco</td>\n",
       "      <td>Amarelo</td>\n",
       "      <td>Gary Medel</td>\n",
       "      <td>17.0</td>\n",
       "      <td>Zagueiro</td>\n",
       "      <td>84</td>\n",
       "    </tr>\n",
       "    <tr>\n",
       "      <th>18855</th>\n",
       "      <td>8405</td>\n",
       "      <td>38</td>\n",
       "      <td>Bragantino</td>\n",
       "      <td>Amarelo</td>\n",
       "      <td>Eduardo Sasha</td>\n",
       "      <td>19.0</td>\n",
       "      <td>Atacante</td>\n",
       "      <td>17</td>\n",
       "    </tr>\n",
       "    <tr>\n",
       "      <th>18856</th>\n",
       "      <td>8405</td>\n",
       "      <td>38</td>\n",
       "      <td>Bragantino</td>\n",
       "      <td>Vermelho</td>\n",
       "      <td>Léo Realpe</td>\n",
       "      <td>2.0</td>\n",
       "      <td>Zagueiro</td>\n",
       "      <td>75</td>\n",
       "    </tr>\n",
       "  </tbody>\n",
       "</table>\n",
       "<p>18857 rows × 8 columns</p>\n",
       "</div>"
      ],
      "text/plain": [
       "       partida_id  rodata          clube    cartao  \\\n",
       "0            4607       1    Figueirense   Amarelo   \n",
       "1            4607       1    Figueirense   Amarelo   \n",
       "2            4608       1  Internacional   Amarelo   \n",
       "3            4608       1        Vitoria   Amarelo   \n",
       "4            4608       1        Vitoria   Amarelo   \n",
       "...           ...     ...            ...       ...   \n",
       "18852        8405      38          Vasco   Amarelo   \n",
       "18853        8405      38          Vasco   Amarelo   \n",
       "18854        8405      38          Vasco   Amarelo   \n",
       "18855        8405      38     Bragantino   Amarelo   \n",
       "18856        8405      38     Bragantino  Vermelho   \n",
       "\n",
       "                           atleta  num_camisa     posicao minuto  \n",
       "0          Paulo Roberto da Silva        28.0         NaN     66  \n",
       "1                   Thiago Heleno         4.0    Zagueiro     44  \n",
       "2             Andrés D'Alessandro        10.0  Meio-campo     72  \n",
       "3      Marcelo Machado dos Santos        29.0         NaN     86  \n",
       "4                          Mansur         NaN    Zagueiro     10  \n",
       "...                           ...         ...         ...    ...  \n",
       "18852                 Gabriel Pec        11.0    Atacante   90+5  \n",
       "18853                    Paulinho        18.0  Meio-campo     51  \n",
       "18854                  Gary Medel        17.0    Zagueiro     84  \n",
       "18855               Eduardo Sasha        19.0    Atacante     17  \n",
       "18856                  Léo Realpe         2.0    Zagueiro     75  \n",
       "\n",
       "[18857 rows x 8 columns]"
      ]
     },
     "execution_count": 26,
     "metadata": {},
     "output_type": "execute_result"
    }
   ],
   "source": [
    "dados"
   ]
  },
  {
   "cell_type": "markdown",
   "metadata": {},
   "source": [
    "Como a base de dados veio com uma coluna errada, trocarei o nome para o correto"
   ]
  },
  {
   "cell_type": "code",
   "execution_count": 27,
   "metadata": {},
   "outputs": [],
   "source": [
    "dados.rename(columns={'rodata':'rodada'}, inplace=True)"
   ]
  },
  {
   "cell_type": "code",
   "execution_count": 28,
   "metadata": {},
   "outputs": [
    {
     "name": "stdout",
     "output_type": "stream",
     "text": [
      "<class 'pandas.core.frame.DataFrame'>\n",
      "RangeIndex: 18857 entries, 0 to 18856\n",
      "Data columns (total 8 columns):\n",
      " #   Column      Non-Null Count  Dtype  \n",
      "---  ------      --------------  -----  \n",
      " 0   partida_id  18857 non-null  int64  \n",
      " 1   rodada      18857 non-null  int64  \n",
      " 2   clube       18857 non-null  object \n",
      " 3   cartao      18857 non-null  object \n",
      " 4   atleta      18851 non-null  object \n",
      " 5   num_camisa  18471 non-null  float64\n",
      " 6   posicao     17659 non-null  object \n",
      " 7   minuto      18857 non-null  object \n",
      "dtypes: float64(1), int64(2), object(5)\n",
      "memory usage: 1.2+ MB\n"
     ]
    }
   ],
   "source": [
    "dados.info()"
   ]
  },
  {
   "cell_type": "markdown",
   "metadata": {},
   "source": [
    "Irei remover as linhas do meu data frame que estão com posicao e atleta nulos, pois podem prejudicar o estudo"
   ]
  },
  {
   "cell_type": "code",
   "execution_count": 29,
   "metadata": {},
   "outputs": [
    {
     "name": "stderr",
     "output_type": "stream",
     "text": [
      "C:\\Users\\Emidio\\AppData\\Local\\Temp\\ipykernel_17548\\2568731570.py:2: SettingWithCopyWarning: \n",
      "A value is trying to be set on a copy of a slice from a DataFrame\n",
      "\n",
      "See the caveats in the documentation: https://pandas.pydata.org/pandas-docs/stable/user_guide/indexing.html#returning-a-view-versus-a-copy\n",
      "  dados_sem_nulos.rename(columns={'rodata':'rodada'}, inplace=True)\n"
     ]
    }
   ],
   "source": [
    "dados_sem_nulos = dados.dropna()\n",
    "dados_sem_nulos.rename(columns={'rodata':'rodada'}, inplace=True)"
   ]
  },
  {
   "cell_type": "code",
   "execution_count": 30,
   "metadata": {},
   "outputs": [
    {
     "data": {
      "text/html": [
       "<div>\n",
       "<style scoped>\n",
       "    .dataframe tbody tr th:only-of-type {\n",
       "        vertical-align: middle;\n",
       "    }\n",
       "\n",
       "    .dataframe tbody tr th {\n",
       "        vertical-align: top;\n",
       "    }\n",
       "\n",
       "    .dataframe thead th {\n",
       "        text-align: right;\n",
       "    }\n",
       "</style>\n",
       "<table border=\"1\" class=\"dataframe\">\n",
       "  <thead>\n",
       "    <tr style=\"text-align: right;\">\n",
       "      <th></th>\n",
       "      <th>partida_id</th>\n",
       "      <th>rodada</th>\n",
       "      <th>clube</th>\n",
       "      <th>cartao</th>\n",
       "      <th>atleta</th>\n",
       "      <th>num_camisa</th>\n",
       "      <th>posicao</th>\n",
       "      <th>minuto</th>\n",
       "    </tr>\n",
       "  </thead>\n",
       "  <tbody>\n",
       "    <tr>\n",
       "      <th>1</th>\n",
       "      <td>4607</td>\n",
       "      <td>1</td>\n",
       "      <td>Figueirense</td>\n",
       "      <td>Amarelo</td>\n",
       "      <td>Thiago Heleno</td>\n",
       "      <td>4.0</td>\n",
       "      <td>Zagueiro</td>\n",
       "      <td>44</td>\n",
       "    </tr>\n",
       "    <tr>\n",
       "      <th>2</th>\n",
       "      <td>4608</td>\n",
       "      <td>1</td>\n",
       "      <td>Internacional</td>\n",
       "      <td>Amarelo</td>\n",
       "      <td>Andrés D'Alessandro</td>\n",
       "      <td>10.0</td>\n",
       "      <td>Meio-campo</td>\n",
       "      <td>72</td>\n",
       "    </tr>\n",
       "    <tr>\n",
       "      <th>5</th>\n",
       "      <td>4608</td>\n",
       "      <td>1</td>\n",
       "      <td>Internacional</td>\n",
       "      <td>Amarelo</td>\n",
       "      <td>Juan Silveira dos Santos</td>\n",
       "      <td>4.0</td>\n",
       "      <td>Zagueiro</td>\n",
       "      <td>20</td>\n",
       "    </tr>\n",
       "    <tr>\n",
       "      <th>7</th>\n",
       "      <td>4609</td>\n",
       "      <td>1</td>\n",
       "      <td>Coritiba</td>\n",
       "      <td>Amarelo</td>\n",
       "      <td>Carlos Emiliano Pereira</td>\n",
       "      <td>30.0</td>\n",
       "      <td>Zagueiro</td>\n",
       "      <td>76</td>\n",
       "    </tr>\n",
       "    <tr>\n",
       "      <th>8</th>\n",
       "      <td>4612</td>\n",
       "      <td>1</td>\n",
       "      <td>Bahia</td>\n",
       "      <td>Amarelo</td>\n",
       "      <td>Cristian Chagas Tarouco</td>\n",
       "      <td>3.0</td>\n",
       "      <td>Zagueiro</td>\n",
       "      <td>78</td>\n",
       "    </tr>\n",
       "    <tr>\n",
       "      <th>...</th>\n",
       "      <td>...</td>\n",
       "      <td>...</td>\n",
       "      <td>...</td>\n",
       "      <td>...</td>\n",
       "      <td>...</td>\n",
       "      <td>...</td>\n",
       "      <td>...</td>\n",
       "      <td>...</td>\n",
       "    </tr>\n",
       "    <tr>\n",
       "      <th>18852</th>\n",
       "      <td>8405</td>\n",
       "      <td>38</td>\n",
       "      <td>Vasco</td>\n",
       "      <td>Amarelo</td>\n",
       "      <td>Gabriel Pec</td>\n",
       "      <td>11.0</td>\n",
       "      <td>Atacante</td>\n",
       "      <td>90+5</td>\n",
       "    </tr>\n",
       "    <tr>\n",
       "      <th>18853</th>\n",
       "      <td>8405</td>\n",
       "      <td>38</td>\n",
       "      <td>Vasco</td>\n",
       "      <td>Amarelo</td>\n",
       "      <td>Paulinho</td>\n",
       "      <td>18.0</td>\n",
       "      <td>Meio-campo</td>\n",
       "      <td>51</td>\n",
       "    </tr>\n",
       "    <tr>\n",
       "      <th>18854</th>\n",
       "      <td>8405</td>\n",
       "      <td>38</td>\n",
       "      <td>Vasco</td>\n",
       "      <td>Amarelo</td>\n",
       "      <td>Gary Medel</td>\n",
       "      <td>17.0</td>\n",
       "      <td>Zagueiro</td>\n",
       "      <td>84</td>\n",
       "    </tr>\n",
       "    <tr>\n",
       "      <th>18855</th>\n",
       "      <td>8405</td>\n",
       "      <td>38</td>\n",
       "      <td>Bragantino</td>\n",
       "      <td>Amarelo</td>\n",
       "      <td>Eduardo Sasha</td>\n",
       "      <td>19.0</td>\n",
       "      <td>Atacante</td>\n",
       "      <td>17</td>\n",
       "    </tr>\n",
       "    <tr>\n",
       "      <th>18856</th>\n",
       "      <td>8405</td>\n",
       "      <td>38</td>\n",
       "      <td>Bragantino</td>\n",
       "      <td>Vermelho</td>\n",
       "      <td>Léo Realpe</td>\n",
       "      <td>2.0</td>\n",
       "      <td>Zagueiro</td>\n",
       "      <td>75</td>\n",
       "    </tr>\n",
       "  </tbody>\n",
       "</table>\n",
       "<p>17325 rows × 8 columns</p>\n",
       "</div>"
      ],
      "text/plain": [
       "       partida_id  rodada          clube    cartao                    atleta  \\\n",
       "1            4607       1    Figueirense   Amarelo             Thiago Heleno   \n",
       "2            4608       1  Internacional   Amarelo       Andrés D'Alessandro   \n",
       "5            4608       1  Internacional   Amarelo  Juan Silveira dos Santos   \n",
       "7            4609       1       Coritiba   Amarelo   Carlos Emiliano Pereira   \n",
       "8            4612       1          Bahia   Amarelo   Cristian Chagas Tarouco   \n",
       "...           ...     ...            ...       ...                       ...   \n",
       "18852        8405      38          Vasco   Amarelo               Gabriel Pec   \n",
       "18853        8405      38          Vasco   Amarelo                  Paulinho   \n",
       "18854        8405      38          Vasco   Amarelo                Gary Medel   \n",
       "18855        8405      38     Bragantino   Amarelo             Eduardo Sasha   \n",
       "18856        8405      38     Bragantino  Vermelho                Léo Realpe   \n",
       "\n",
       "       num_camisa     posicao minuto  \n",
       "1             4.0    Zagueiro     44  \n",
       "2            10.0  Meio-campo     72  \n",
       "5             4.0    Zagueiro     20  \n",
       "7            30.0    Zagueiro     76  \n",
       "8             3.0    Zagueiro     78  \n",
       "...           ...         ...    ...  \n",
       "18852        11.0    Atacante   90+5  \n",
       "18853        18.0  Meio-campo     51  \n",
       "18854        17.0    Zagueiro     84  \n",
       "18855        19.0    Atacante     17  \n",
       "18856         2.0    Zagueiro     75  \n",
       "\n",
       "[17325 rows x 8 columns]"
      ]
     },
     "execution_count": 30,
     "metadata": {},
     "output_type": "execute_result"
    }
   ],
   "source": [
    "dados_sem_nulos"
   ]
  },
  {
   "cell_type": "code",
   "execution_count": 31,
   "metadata": {},
   "outputs": [
    {
     "name": "stdout",
     "output_type": "stream",
     "text": [
      "<class 'pandas.core.frame.DataFrame'>\n",
      "Index: 17325 entries, 1 to 18856\n",
      "Data columns (total 8 columns):\n",
      " #   Column      Non-Null Count  Dtype  \n",
      "---  ------      --------------  -----  \n",
      " 0   partida_id  17325 non-null  int64  \n",
      " 1   rodada      17325 non-null  int64  \n",
      " 2   clube       17325 non-null  object \n",
      " 3   cartao      17325 non-null  object \n",
      " 4   atleta      17325 non-null  object \n",
      " 5   num_camisa  17325 non-null  float64\n",
      " 6   posicao     17325 non-null  object \n",
      " 7   minuto      17325 non-null  object \n",
      "dtypes: float64(1), int64(2), object(5)\n",
      "memory usage: 1.2+ MB\n"
     ]
    }
   ],
   "source": [
    "dados_sem_nulos.info()"
   ]
  },
  {
   "cell_type": "markdown",
   "metadata": {},
   "source": [
    "Com as devidas linhas removidas, irei começar as análises. \n"
   ]
  },
  {
   "cell_type": "markdown",
   "metadata": {},
   "source": [
    "1) Primeiro vou começar descobrindo a quantidade de cartões por posições dos jogadores"
   ]
  },
  {
   "cell_type": "code",
   "execution_count": 32,
   "metadata": {},
   "outputs": [],
   "source": [
    "dados_zag_com_cartoes = dados_sem_nulos.query('posicao == \"Zagueiro\"')\n",
    "dados_mc_com_cartoes = dados_sem_nulos.query('posicao == \"Meio-campo\"')\n",
    "dados_at_com_cartoes = dados_sem_nulos.query('posicao == \"Atacante\"')"
   ]
  },
  {
   "cell_type": "code",
   "execution_count": 33,
   "metadata": {},
   "outputs": [
    {
     "name": "stdout",
     "output_type": "stream",
     "text": [
      "O número de zagueiros com cartões é: \n",
      "6602\n",
      "\n",
      "O número de meio-campos com cartões é: \n",
      "7668\n",
      "\n",
      "O número de atacantes com cartões é: \n",
      "2443\n"
     ]
    }
   ],
   "source": [
    "print( \"O número de zagueiros com cartões é: \")\n",
    "print(dados_zag_com_cartoes.__len__())\n",
    "\n",
    "print( \"\\nO número de meio-campos com cartões é: \")\n",
    "print(dados_mc_com_cartoes.__len__())\n",
    "\n",
    "print( \"\\nO número de atacantes com cartões é: \")\n",
    "print(dados_at_com_cartoes.__len__())"
   ]
  },
  {
   "cell_type": "markdown",
   "metadata": {},
   "source": [
    "No futebol, o meio-campo é uma posição crucial e muito disputada, o que frequentemente leva a mais cartões amarelos ou vermelhos em comparação com zagueiros e atacantes.\n",
    "\n",
    "Algumas dessas razões podem ser:\n",
    "\n",
    "Maior número de disputa de bola: Normalmente é no meio de campo que ocorrem maioria tentativas de roubadas de bola, que podem ocasionar em faltas com cartões\n",
    "\n",
    "Maior responsabilidade de marcação: Como é o setor onde a bola mais fica, acaba ficando com eles, ficam mais propensos a essas responsabilidades\n",
    "\n",
    "Faltas táticas: Faltas táticas, como faltas para matar contra ataques, que costumam ocasionar em cartões, costumam ser feitas por jogadores do setor de meio campo\n",
    "\n",
    "\n",
    "O resultado desse dado pode surpreender o senso comum, já que talvez o esperado é esperar que os zagueiros sejam o maior número desses dados"
   ]
  },
  {
   "cell_type": "markdown",
   "metadata": {},
   "source": [
    "2) Agora, quero descobrir em qual rodada esses cartões mais saíram"
   ]
  },
  {
   "cell_type": "markdown",
   "metadata": {},
   "source": []
  },
  {
   "cell_type": "code",
   "execution_count": 34,
   "metadata": {},
   "outputs": [
    {
     "name": "stdout",
     "output_type": "stream",
     "text": [
      "Rodada que mais aparece: 37\n",
      "Frequência dessa rodada: 542\n"
     ]
    }
   ],
   "source": [
    "# Contar a frequência de cada valor na coluna 'rodada'\n",
    "frequencia_cartoes_rodadas = dados_sem_nulos['rodada'].value_counts()\n",
    "\n",
    "# Encontrar o valor com a maior contagem, no caso o número da rodada\n",
    "print(\"Rodada que mais aparece:\", frequencia_cartoes_rodadas.idxmax())\n",
    "\n",
    "# Se você quiser também saber quantas vezes essa rodada aparece, no caso quantas vezes ela repete\n",
    "print(\"Frequência dessa rodada:\", frequencia_cartoes_rodadas.max())\n",
    "\n"
   ]
  },
  {
   "cell_type": "markdown",
   "metadata": {},
   "source": [
    "Esse é um resultado esperado, é comum em retas finais de campeonatos os jogos ficarem mais nervosos, já que muitos jogos nessa etapa costumam ser decisivos tanto para fugas de rebaixamentos, quanto para classificações em campeonatos, então os jogadores ficam mais exaltados, então reclamam mais acintosamente e fazem mais faltas, podendo ocasionando em mais cartões"
   ]
  },
  {
   "cell_type": "markdown",
   "metadata": {},
   "source": [
    "3) Em qual tempo esses cartões saem mais? (1° ou 2°) ?"
   ]
  },
  {
   "cell_type": "markdown",
   "metadata": {},
   "source": [
    "Considerando cada tempo com 45 minutos (desconsiderarei os acréscimos), os cartões com 45 minutos ou menos considerarei 1° tempo, o restante 2° tempo"
   ]
  },
  {
   "cell_type": "code",
   "execution_count": 35,
   "metadata": {},
   "outputs": [],
   "source": [
    "dados_cartoes_primeiro_tempo = dados_sem_nulos.query('minuto <= \"45\"')\n",
    "dados_cartoes_segundo_tempo = dados_sem_nulos.query('minuto > \"45\" and minuto <= \"90\"')\n"
   ]
  },
  {
   "cell_type": "code",
   "execution_count": 36,
   "metadata": {},
   "outputs": [
    {
     "name": "stdout",
     "output_type": "stream",
     "text": [
      "Cartões no 1° tempo: 5463\n",
      "\n",
      "Cartões no 2° tempo: 10084\n"
     ]
    }
   ],
   "source": [
    "print(\"Cartões no 1° tempo:\", dados_cartoes_primeiro_tempo.__len__())\n",
    "print(\"\\nCartões no 2° tempo:\", dados_cartoes_segundo_tempo.__len__())"
   ]
  },
  {
   "cell_type": "markdown",
   "metadata": {},
   "source": [
    "Esses valores são também esperados, o 2° tempo, de modo geral, costuma sair bem mais cartões que o primeiro, esses motivos podem variar desde o árbitro conversar mais e evitar cartões no inicio do jogo, até os jogadores serem mais precavidos no inicio, já que tomar um cartão cedo significa jogar o restante do jogo inteiro pendurado, e isso pode atrapalhar o atleta, já que por exemplo não poderia fazer as famosas faltas táticas no 2° tempo, já que estaria pendurado com um cartão"
   ]
  },
  {
   "cell_type": "markdown",
   "metadata": {},
   "source": [
    "4) Qual o clube que mais tomou cartões? (Quantos amarelos e vermelhos?)"
   ]
  },
  {
   "cell_type": "code",
   "execution_count": 41,
   "metadata": {},
   "outputs": [
    {
     "name": "stdout",
     "output_type": "stream",
     "text": [
      "Clube que mais tomou cartão: Sao Paulo\n",
      "\n",
      "Quantidade de cartões: 889\n",
      "\n",
      "Quantidade de cartões vermelhos: 45\n",
      "\n",
      "Quantidade de cartões amarelos: 844\n"
     ]
    }
   ],
   "source": [
    "\n",
    "\n",
    "# Contar a frequência de cada valor na coluna 'clube'\n",
    "frequencia_cartoes_clubes = dados_sem_nulos['clube'].value_counts()\n",
    "\n",
    "# Nome do clube que mais tomou cartão\n",
    "print(\"Clube que mais tomou cartão:\", frequencia_cartoes_clubes.idxmax())\n",
    "\n",
    "\n",
    "# Quantidade de cartões\n",
    "print(\"\\nQuantidade de cartões:\", frequencia_cartoes_clubes.max())\n",
    "\n",
    "cartoes_vermelhos_clube_com_mais_cartoes = dados_sem_nulos.query(f'clube == \"{frequencia_cartoes_clubes.idxmax()}\" and cartao == \"Vermelho\"')\n",
    "\n",
    "print(\"\\nQuantidade de cartões vermelhos:\", cartoes_vermelhos_clube_com_mais_cartoes.__len__())\n",
    "\n",
    "print(\"\\nQuantidade de cartões amarelos:\", frequencia_cartoes_clubes.max() - cartoes_vermelhos_clube_com_mais_cartoes.__len__())"
   ]
  },
  {
   "cell_type": "markdown",
   "metadata": {},
   "source": [
    "Esse dado pode ou não significar algo, ele apenas diz qual foi o clube que mais tomou cartão no período de 2003 à 2023 no campeonato brasileiro. O que podemos afirmar é que é um time comum a se ter isso, visto que foi um dos poucos que jogaram a competição durante o periodo todo de análise"
   ]
  },
  {
   "cell_type": "markdown",
   "metadata": {},
   "source": [
    "5) Os 20 clubes que mais tomaram cartões"
   ]
  },
  {
   "cell_type": "code",
   "execution_count": 38,
   "metadata": {},
   "outputs": [
    {
     "data": {
      "text/plain": [
       "clube\n",
       "Sao Paulo        889\n",
       "Fluminense       886\n",
       "Santos           885\n",
       "Internacional    870\n",
       "Palmeiras        858\n",
       "Athletico-PR     834\n",
       "Atletico-MG      813\n",
       "Flamengo         799\n",
       "Gremio           772\n",
       "Corinthians      739\n",
       "Coritiba         703\n",
       "Botafogo-RJ      663\n",
       "Cruzeiro         613\n",
       "Bahia            602\n",
       "Vasco            598\n",
       "Sport            562\n",
       "Goias            550\n",
       "Chapecoense      531\n",
       "Ceara            492\n",
       "Fortaleza        452\n",
       "Name: count, dtype: int64"
      ]
     },
     "execution_count": 38,
     "metadata": {},
     "output_type": "execute_result"
    }
   ],
   "source": [
    "\n",
    "frequencia_cartoes_clubes.head(20)"
   ]
  },
  {
   "cell_type": "markdown",
   "metadata": {},
   "source": [
    "6) Os 20 jogadores que mais tomaram cartões"
   ]
  },
  {
   "cell_type": "code",
   "execution_count": 39,
   "metadata": {},
   "outputs": [
    {
     "name": "stdout",
     "output_type": "stream",
     "text": [
      "atleta\n",
      "Thiago Heleno                   76\n",
      "Fagner                          70\n",
      "Samuel Xavier                   69\n",
      "Lucas Rafael Araújo Lima        66\n",
      "Reinaldo Manoel da Silva        64\n",
      "Walter Kannemann                63\n",
      "Bruno Henrique                  59\n",
      "Felipe Melo                     59\n",
      "Wellington Aparecido Martins    58\n",
      "Fred                            58\n",
      "Víctor Cuesta                   58\n",
      "José Rafael Vivian              56\n",
      "João Paulo                      55\n",
      "Bruno César Pereira da Silva    53\n",
      "David Braz                      53\n",
      "Gabriel Barbosa                 52\n",
      "Nino Paraíba                    50\n",
      "Jadson                          50\n",
      "Fábio Santos                    49\n",
      "Gabriel Girotto Franco          49\n",
      "Name: count, dtype: int64\n"
     ]
    }
   ],
   "source": [
    "frequencia_cartoes_jogador = dados_sem_nulos['atleta'].value_counts().head(20)\n",
    "\n",
    "print(frequencia_cartoes_jogador)"
   ]
  },
  {
   "cell_type": "markdown",
   "metadata": {},
   "source": [
    "A presença de alguns atacantes na lista, como o Gabriel Barbosa, pode ser surpreendente pra alguns, é provável que muito desses cartões que ele tenha tomado sejam por reclamações"
   ]
  },
  {
   "cell_type": "markdown",
   "metadata": {},
   "source": [
    "7) Quantos vermelhos e amarelos o jogador com mais cartões levou?"
   ]
  },
  {
   "cell_type": "code",
   "execution_count": 44,
   "metadata": {},
   "outputs": [
    {
     "name": "stdout",
     "output_type": "stream",
     "text": [
      "\n",
      "Quantidade de cartões vermelhos: 6\n",
      "\n",
      "Quantidade de cartões amarelos: 70\n"
     ]
    }
   ],
   "source": [
    "cartoes_vermelhos_jogador_com_mais_cartoes = dados_sem_nulos.query(f'atleta == \"{frequencia_cartoes_jogador.idxmax()}\" and cartao == \"Vermelho\"')\n",
    "\n",
    "print(\"\\nQuantidade de cartões vermelhos:\", cartoes_vermelhos_jogador_com_mais_cartoes.__len__())\n",
    "\n",
    "print(\"\\nQuantidade de cartões amarelos:\", frequencia_cartoes_jogador.max() - cartoes_vermelhos_jogador_com_mais_cartoes.__len__())\n"
   ]
  }
 ],
 "metadata": {
  "kernelspec": {
   "display_name": "Python 3",
   "language": "python",
   "name": "python3"
  },
  "language_info": {
   "codemirror_mode": {
    "name": "ipython",
    "version": 3
   },
   "file_extension": ".py",
   "mimetype": "text/x-python",
   "name": "python",
   "nbconvert_exporter": "python",
   "pygments_lexer": "ipython3",
   "version": "3.9.5"
  }
 },
 "nbformat": 4,
 "nbformat_minor": 2
}
